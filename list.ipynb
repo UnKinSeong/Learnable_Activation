{
 "cells": [
  {
   "cell_type": "code",
   "execution_count": 1,
   "metadata": {},
   "outputs": [
    {
     "name": "stdout",
     "output_type": "stream",
     "text": [
      "Files already downloaded and verified\n",
      "Files already downloaded and verified\n",
      "Using downloaded and verified file: ./datasets\\train_32x32.mat\n",
      "Files already downloaded and verified\n",
      "\n",
      "Dataset Information:\n",
      "--------------------------------------------------\n",
      "Dataset         Classes    Training Samples\n",
      "--------------------------------------------------\n",
      "MNIST           10         60000          \n",
      "CIFAR10         10         50000          \n",
      "Caltech101      10         8677           \n",
      "SVHN            10         73257          \n",
      "FashionMNIST    10         60000          \n",
      "KMNIST          10         60000          \n",
      "STL10           10         5000           \n"
     ]
    }
   ],
   "source": [
    "from torchvision import datasets\n",
    "from collections import defaultdict\n",
    "\n",
    "# Initialize dictionary to store dataset info\n",
    "dataset_info = defaultdict(dict)\n",
    "\n",
    "# Path for dataset storage\n",
    "path = './datasets'\n",
    "\n",
    "# List of dataset configurations\n",
    "dataset_configs = [\n",
    "    (datasets.MNIST, {'train': True}, 'MNIST'),\n",
    "    (datasets.CIFAR10, {'train': True}, 'CIFAR10'),\n",
    "    (datasets.Caltech101, {}, 'Caltech101'),\n",
    "    (datasets.SVHN, {'split': 'train'}, 'SVHN'),\n",
    "    (datasets.FashionMNIST, {'train': True}, 'FashionMNIST'),\n",
    "    (datasets.KMNIST, {'train': True}, 'KMNIST'),\n",
    "    (datasets.STL10, {'split': 'train'}, 'STL10')\n",
    "]\n",
    "\n",
    "# Load each dataset and get info\n",
    "for dataset_class, kwargs, name in dataset_configs:\n",
    "    try:\n",
    "        dataset = dataset_class(root=path, download=True, **kwargs)\n",
    "        \n",
    "        # Get number of classes\n",
    "        if hasattr(dataset, 'classes'):\n",
    "            num_classes = len(dataset.classes)\n",
    "        elif hasattr(dataset, 'labels'):  # For SVHN\n",
    "            num_classes = len(set(dataset.labels))\n",
    "        \n",
    "        dataset_info[name] = {\n",
    "            'num_classes': num_classes,\n",
    "            'num_samples': len(dataset)\n",
    "        }\n",
    "        \n",
    "    except Exception as e:\n",
    "        print(f\"Error loading {name}: {str(e)}\")\n",
    "\n",
    "# Print results in a formatted way\n",
    "print(\"\\nDataset Information:\")\n",
    "print(\"-\" * 50)\n",
    "print(f\"{'Dataset':<15} {'Classes':<10} {'Training Samples':<15}\")\n",
    "print(\"-\" * 50)\n",
    "for name, info in dataset_info.items():\n",
    "    print(f\"{name:<15} {info['num_classes']:<10} {info['num_samples']:<15}\")"
   ]
  },
  {
   "cell_type": "code",
   "execution_count": 3,
   "metadata": {},
   "outputs": [
    {
     "name": "stdout",
     "output_type": "stream",
     "text": [
      "Files already downloaded and verified\n",
      "Number of classes: 101\n",
      "Number of samples: 8677\n",
      "\n",
      "First few classes:\n",
      "- Faces\n",
      "- Faces_easy\n",
      "- Leopards\n",
      "- Motorbikes\n",
      "- accordion\n"
     ]
    }
   ],
   "source": [
    "from torchvision import datasets\n",
    "\n",
    "# Load Caltech101\n",
    "caltech = datasets.Caltech101(root='./datasets', download=True)\n",
    "\n",
    "# Print dataset information\n",
    "print(f\"Number of classes: {len(caltech.categories)}\")\n",
    "print(f\"Number of samples: {len(caltech)}\")\n",
    "print(\"\\nFirst few classes:\")\n",
    "for i in range(min(5, len(caltech.categories))):\n",
    "    print(f\"- {caltech.categories[i]}\")"
   ]
  }
 ],
 "metadata": {
  "kernelspec": {
   "display_name": "UNI_GPT",
   "language": "python",
   "name": "python3"
  },
  "language_info": {
   "codemirror_mode": {
    "name": "ipython",
    "version": 3
   },
   "file_extension": ".py",
   "mimetype": "text/x-python",
   "name": "python",
   "nbconvert_exporter": "python",
   "pygments_lexer": "ipython3",
   "version": "3.12.3"
  }
 },
 "nbformat": 4,
 "nbformat_minor": 2
}
